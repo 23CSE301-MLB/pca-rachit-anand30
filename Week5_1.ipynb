{
 "cells": [
  {
   "cell_type": "markdown",
   "id": "bcaaaf2f",
   "metadata": {},
   "source": [
    "# Exercise 1 - Week 5\n",
    "## PCA on Wine Recognition Dataset"
   ]
  },
  {
   "cell_type": "code",
   "execution_count": null,
   "id": "f2ba03d7",
   "metadata": {},
   "outputs": [],
   "source": [
    "import pandas as pd\n",
    "import numpy as np\n",
    "import matplotlib.pyplot as plt\n",
    "import seaborn as sns\n",
    "from sklearn.datasets import load_wine\n",
    "from sklearn.preprocessing import StandardScaler\n",
    "from sklearn.decomposition import PCA\n",
    "\n",
    "# Load dataset\n",
    "wine = load_wine()\n",
    "X = pd.DataFrame(wine.data, columns=wine.feature_names)\n",
    "y = pd.Series(wine.target, name='wine_class')\n",
    "\n",
    "# Basic info\n",
    "print(\"Shape:\", X.shape)\n",
    "print(\"Feature names:\", wine.feature_names)\n",
    "print(\"Class distribution:\n",
    "\", y.value_counts())\n"
   ]
  },
  {
   "cell_type": "code",
   "execution_count": null,
   "id": "e63a614c",
   "metadata": {},
   "outputs": [],
   "source": [
    "scaler = StandardScaler()\n",
    "X_scaled = scaler.fit_transform(X)\n"
   ]
  },
  {
   "cell_type": "code",
   "execution_count": null,
   "id": "abfba0f1",
   "metadata": {},
   "outputs": [],
   "source": [
    "pca = PCA(n_components=2)\n",
    "X_pca = pca.fit_transform(X_scaled)\n",
    "\n",
    "print(\"Principal Components:\")\n",
    "print(pca.components_)\n",
    "print(\"Explained Variance Ratio:\", pca.explained_variance_ratio_)\n"
   ]
  },
  {
   "cell_type": "code",
   "execution_count": null,
   "id": "00b67386",
   "metadata": {},
   "outputs": [],
   "source": [
    "# 2D Scatter plot\n",
    "plt.figure(figsize=(8,6))\n",
    "sns.scatterplot(x=X_pca[:,0], y=X_pca[:,1], hue=y, palette='Set1')\n",
    "plt.title('PCA - Wine Recognition (2D)')\n",
    "plt.xlabel('PC1')\n",
    "plt.ylabel('PC2')\n",
    "plt.show()\n"
   ]
  },
  {
   "cell_type": "code",
   "execution_count": null,
   "id": "36fbebf8",
   "metadata": {},
   "outputs": [],
   "source": [
    "# Explained variance for all components\n",
    "pca_full = PCA()\n",
    "pca_full.fit(X_scaled)\n",
    "explained_var = pca_full.explained_variance_ratio_\n",
    "cum_var = np.cumsum(explained_var)\n",
    "\n",
    "plt.figure(figsize=(8,5))\n",
    "plt.plot(range(1, len(explained_var)+1), cum_var, marker='o')\n",
    "plt.title('Cumulative Explained Variance')\n",
    "plt.xlabel('Number of Components')\n",
    "plt.ylabel('Cumulative Variance')\n",
    "plt.axhline(y=0.95, color='r', linestyle='--')\n",
    "plt.grid(True)\n",
    "plt.show()\n",
    "\n",
    "print(\"Number of components to retain 95% variance:\",\n",
    "      np.argmax(cum_var >= 0.95) + 1)\n"
   ]
  },
  {
   "cell_type": "code",
   "execution_count": null,
   "id": "801c00d6",
   "metadata": {},
   "outputs": [],
   "source": [
    "from mpl_toolkits.mplot3d import Axes3D\n",
    "\n",
    "# PCA to 3 components\n",
    "pca_3d = PCA(n_components=3)\n",
    "X_pca_3d = pca_3d.fit_transform(X_scaled)\n",
    "\n",
    "# 3D scatter plot\n",
    "fig = plt.figure(figsize=(10,7))\n",
    "ax = fig.add_subplot(111, projection='3d')\n",
    "scatter = ax.scatter(X_pca_3d[:,0], X_pca_3d[:,1], X_pca_3d[:,2], c=y, cmap='Set1')\n",
    "ax.set_title('PCA - Wine Recognition (3D)')\n",
    "ax.set_xlabel('PC1')\n",
    "ax.set_ylabel('PC2')\n",
    "ax.set_zlabel('PC3')\n",
    "plt.legend(*scatter.legend_elements(), title=\"Class\")\n",
    "plt.show()\n"
   ]
  },
  {
   "cell_type": "markdown",
   "id": "85bedcff",
   "metadata": {},
   "source": [
    "## Inference\n",
    "\n",
    "- The PCA reduced the 13-dimensional dataset to 2 and 3 dimensions effectively.\n",
    "- The first 2 components explained a significant portion of the variance.\n",
    "- To retain at least 95% of the variance, we need X components (as printed above).\n",
    "- In 2D and 3D scatter plots, clear separation between wine classes can be observed, indicating PCA's success in dimensionality reduction while preserving class separability.\n"
   ]
  }
 ],
 "metadata": {},
 "nbformat": 4,
 "nbformat_minor": 5
}
